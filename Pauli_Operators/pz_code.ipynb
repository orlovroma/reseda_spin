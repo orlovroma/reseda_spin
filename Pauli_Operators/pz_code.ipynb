{
 "cells": [
  {
   "cell_type": "markdown",
   "source": [
    "# This code visualizes the rotation of neutron spin under the action of the Pauli Z operator"
   ],
   "metadata": {
    "collapsed": false
   },
   "id": "53227c616caf72e6"
  },
  {
   "cell_type": "code",
   "outputs": [],
   "source": [
    "import numpy as np\n",
    "from qutip import *\n",
    "import matplotlib.cm as cm\n",
    "import matplotlib.pyplot as plt\n",
    "\n",
    "# Modules for visualization \n",
    "import os\n",
    "import subprocess\n",
    "from IPython import display"
   ],
   "metadata": {
    "collapsed": true,
    "ExecuteTime": {
     "end_time": "2023-11-08T13:30:39.305255Z",
     "start_time": "2023-11-08T13:30:38.705597Z"
    }
   },
   "id": "initial_id",
   "execution_count": 1
  },
  {
   "cell_type": "code",
   "execution_count": 2,
   "outputs": [],
   "source": [
    "\n",
    "def create_video(path, name):\n",
    "    command = f'ffmpeg -framerate 90 -i {path}/frame_%d.png -c:v libx264 -pix_fmt yuv420p {name}.mp4'\n",
    "    subprocess.run(command, shell=True, check=True)\n",
    "\n",
    "def create_gif(path):\n",
    "    n = 1\n",
    "    while os.path.exists(os.path.join(path, f'output{n}.gif')):\n",
    "        n += 1\n",
    "    command = f'ffmpeg -framerate 30 -i {path}/frame_%d.png output{n}.gif'\n",
    "    subprocess.run(command, shell=True, check=True)\n",
    "\n",
    "def display_gif(fn):\n",
    "\n",
    "    return display.HTML('<img src=\"{}\">'.format(fn))\n",
    "\n",
    "def display_video(video_path):\n",
    "    return display.Video(video_path)\n"
   ],
   "metadata": {
    "collapsed": false,
    "ExecuteTime": {
     "end_time": "2023-11-08T13:30:41.082907Z",
     "start_time": "2023-11-08T13:30:41.079068Z"
    }
   },
   "id": "7e9dc78552cad055"
  },
  {
   "cell_type": "code",
   "execution_count": 3,
   "outputs": [],
   "source": [
    "H = sigmaz() # Hamiltonian\n",
    "psi0 = (basis(2, 0) + 1j*basis(2, 1)).unit() # Initial state\n",
    "times = np.linspace(0.0, np.pi/2, 200)\n",
    "result = sesolve(H, psi0, times, [])"
   ],
   "metadata": {
    "collapsed": false,
    "ExecuteTime": {
     "end_time": "2023-11-08T13:31:03.103545Z",
     "start_time": "2023-11-08T13:31:03.088385Z"
    }
   },
   "id": "f1e25e60a7b56ff3"
  },
  {
   "cell_type": "code",
   "execution_count": 4,
   "outputs": [],
   "source": [
    "cmap = plt.get_cmap('seismic')\n",
    "num_of_points = len(times)\n",
    "colors = [cmap(i/num_of_points) for i in range(num_of_points)]\n",
    "\n",
    "b = Bloch()\n",
    "\n",
    "b.zlabel = ['|↑⟩', '|↓⟩']\n",
    "b.point_marker = ['o']  # Set all point markers to circles\n",
    "b.point_size = [20]\n",
    "b.vector_color = ['green']\n",
    "b.point_color = colors\n",
    "\n",
    "n = 0\n",
    "for i in range(len(result.states)):\n",
    "    b.add_states(result.states[i], kind='vector')\n",
    "    b.save(f'pz_tmp/frame_{n}.png', format='png')\n",
    "    b.add_states(result.states[i], kind='point')\n",
    "    b.save(f'pz_tmp/frame_{n+1}.png', format='png')\n",
    "    b.clear()\n",
    "    for j in range(i+1):\n",
    "        b.add_states(result.states[j], kind='point')\n",
    "    n+=2"
   ],
   "metadata": {
    "collapsed": false,
    "ExecuteTime": {
     "end_time": "2023-11-08T13:33:14.383176Z",
     "start_time": "2023-11-08T13:31:14.665515Z"
    }
   },
   "id": "d736d4834f084e52"
  },
  {
   "cell_type": "code",
   "execution_count": 5,
   "outputs": [
    {
     "name": "stderr",
     "output_type": "stream",
     "text": [
      "ffmpeg version 6.0 Copyright (c) 2000-2023 the FFmpeg developers\n",
      "  built with clang version 15.0.7\n",
      "  configuration: --prefix=/Users/runner/miniforge3/conda-bld/ffmpeg_1696213807101/_h_env_placehold_placehold_placehold_placehold_placehold_placehold_placehold_placehold_placehold_placehold_placehold_placehold_placehold_placehold_placehold_placehold_placehold_placehold_placehold_pl --cc=arm64-apple-darwin20.0.0-clang --cxx=arm64-apple-darwin20.0.0-clang++ --nm=arm64-apple-darwin20.0.0-nm --ar=arm64-apple-darwin20.0.0-ar --disable-doc --disable-openssl --enable-demuxer=dash --enable-hardcoded-tables --enable-libfreetype --enable-libfontconfig --enable-libopenh264 --enable-libdav1d --enable-cross-compile --arch=arm64 --target-os=darwin --cross-prefix=arm64-apple-darwin20.0.0- --host-cc=/Users/runner/miniforge3/conda-bld/ffmpeg_1696213807101/_build_env/bin/x86_64-apple-darwin13.4.0-clang --enable-neon --enable-gnutls --enable-libmp3lame --enable-libvpx --enable-libass --enable-pthreads --enable-gpl --enable-libx264 --enable-libx265 --enable-libaom --enable-libsvtav1 --enable-libxml2 --enable-pic --enable-shared --disable-static --enable-version3 --enable-zlib --enable-libopus --pkg-config=/Users/runner/miniforge3/conda-bld/ffmpeg_1696213807101/_build_env/bin/pkg-config\n",
      "  libavutil      58.  2.100 / 58.  2.100\n",
      "  libavcodec     60.  3.100 / 60.  3.100\n",
      "  libavformat    60.  3.100 / 60.  3.100\n",
      "  libavdevice    60.  1.100 / 60.  1.100\n",
      "  libavfilter     9.  3.100 /  9.  3.100\n",
      "  libswscale      7.  1.100 /  7.  1.100\n",
      "  libswresample   4. 10.100 /  4. 10.100\n",
      "  libpostproc    57.  1.100 / 57.  1.100\n",
      "Input #0, image2, from 'pz_tmp/frame_%d.png':\n",
      "  Duration: 00:00:04.44, start: 0.000000, bitrate: N/A\n",
      "  Stream #0:0: Video: png, rgba(pc), 500x500 [SAR 3937:3937 DAR 1:1], 90 fps, 90 tbr, 90 tbn\n",
      "Stream mapping:\n",
      "  Stream #0:0 -> #0:0 (png (native) -> h264 (libx264))\n",
      "Press [q] to stop, [?] for help\n",
      "[libx264 @ 0x1218056a0] using SAR=1/1\n",
      "[libx264 @ 0x1218056a0] using cpu capabilities: ARMv8 NEON\n",
      "[libx264 @ 0x1218056a0] profile High, level 3.1, 4:2:0, 8-bit\n",
      "[libx264 @ 0x1218056a0] 264 - core 164 r3095 baee400 - H.264/MPEG-4 AVC codec - Copyleft 2003-2022 - http://www.videolan.org/x264.html - options: cabac=1 ref=3 deblock=1:0:0 analyse=0x3:0x113 me=hex subme=7 psy=1 psy_rd=1.00:0.00 mixed_ref=1 me_range=16 chroma_me=1 trellis=1 8x8dct=1 cqm=0 deadzone=21,11 fast_pskip=1 chroma_qp_offset=-2 threads=12 lookahead_threads=2 sliced_threads=0 nr=0 decimate=1 interlaced=0 bluray_compat=0 constrained_intra=0 bframes=3 b_pyramid=2 b_adapt=1 b_bias=0 direct=1 weightb=1 open_gop=0 weightp=2 keyint=250 keyint_min=25 scenecut=40 intra_refresh=0 rc_lookahead=40 rc=crf mbtree=1 crf=23.0 qcomp=0.60 qpmin=0 qpmax=69 qpstep=4 ip_ratio=1.40 aq=1:1.00\n",
      "Output #0, mp4, to 'pz_colored.mp4':\n",
      "  Metadata:\n",
      "    encoder         : Lavf60.3.100\n",
      "  Stream #0:0: Video: h264 (avc1 / 0x31637661), yuv420p(tv, progressive), 500x500 [SAR 1:1 DAR 1:1], q=2-31, 90 fps, 11520 tbn\n",
      "    Metadata:\n",
      "      encoder         : Lavc60.3.100 libx264\n",
      "    Side data:\n",
      "      cpb: bitrate max/min/avg: 0/0/0 buffer size: 0 vbv_delay: N/A\n",
      "frame=  210 fps=0.0 q=33.0 size=       0kB time=00:00:02.30 bitrate=   0.2kbits/s speed=4.55x    \r frame=  400 fps=0.0 q=-1.0 Lsize=      69kB time=00:00:04.41 bitrate= 127.5kbits/s speed=4.53x    \n",
      "video:63kB audio:0kB subtitle:0kB other streams:0kB global headers:0kB muxing overhead: 8.765008%\n",
      "[libx264 @ 0x1218056a0] frame I:2     Avg QP:20.44  size: 14142\n",
      "[libx264 @ 0x1218056a0] frame P:116   Avg QP:21.32  size:   201\n",
      "[libx264 @ 0x1218056a0] frame B:282   Avg QP:22.52  size:    44\n",
      "[libx264 @ 0x1218056a0] consecutive B-frames:  0.5% 16.0%  1.5% 82.0%\n",
      "[libx264 @ 0x1218056a0] mb I  I16..4:  3.8% 57.6% 38.7%\n",
      "[libx264 @ 0x1218056a0] mb P  I16..4:  0.0%  0.0%  0.0%  P16..4:  0.7%  0.7%  0.5%  0.0%  0.0%    skip:98.0%\n",
      "[libx264 @ 0x1218056a0] mb B  I16..4:  0.0%  0.0%  0.0%  B16..8:  1.1%  0.2%  0.0%  direct: 0.0%  skip:98.6%  L0:41.6% L1:54.5% BI: 3.8%\n",
      "[libx264 @ 0x1218056a0] 8x8 transform intra:53.5% inter:33.5%\n",
      "[libx264 @ 0x1218056a0] coded y,uvDC,uvAC intra: 33.7% 13.8% 5.1% inter: 0.1% 0.2% 0.1%\n",
      "[libx264 @ 0x1218056a0] i16 v,h,dc,p: 25%  5% 69%  1%\n",
      "[libx264 @ 0x1218056a0] i8 v,h,dc,ddl,ddr,vr,hd,vl,hu: 26% 22% 42%  2%  1%  1%  1%  2%  2%\n",
      "[libx264 @ 0x1218056a0] i4 v,h,dc,ddl,ddr,vr,hd,vl,hu: 33% 14% 19%  6%  5%  5%  7%  6%  5%\n",
      "[libx264 @ 0x1218056a0] i8c dc,h,v,p: 82%  7% 10%  0%\n",
      "[libx264 @ 0x1218056a0] Weighted P-Frames: Y:0.0% UV:0.0%\n",
      "[libx264 @ 0x1218056a0] ref P L0: 80.8%  5.7%  9.9%  3.6%\n",
      "[libx264 @ 0x1218056a0] ref B L0: 92.7%  5.8%  1.5%\n",
      "[libx264 @ 0x1218056a0] ref B L1: 98.5%  1.5%\n",
      "[libx264 @ 0x1218056a0] kb/s:115.10\n"
     ]
    }
   ],
   "source": [
    "create_video('pz_tmp', 'pz_colored')"
   ],
   "metadata": {
    "collapsed": false,
    "ExecuteTime": {
     "end_time": "2023-11-08T13:33:45.753319Z",
     "start_time": "2023-11-08T13:33:44.723009Z"
    }
   },
   "id": "3b5ef32887e4b681"
  },
  {
   "cell_type": "code",
   "execution_count": null,
   "outputs": [],
   "source": [],
   "metadata": {
    "collapsed": false
   },
   "id": "6fcd9f4e8e3c3ce5"
  }
 ],
 "metadata": {
  "kernelspec": {
   "display_name": "Python 3",
   "language": "python",
   "name": "python3"
  },
  "language_info": {
   "codemirror_mode": {
    "name": "ipython",
    "version": 2
   },
   "file_extension": ".py",
   "mimetype": "text/x-python",
   "name": "python",
   "nbconvert_exporter": "python",
   "pygments_lexer": "ipython2",
   "version": "2.7.6"
  }
 },
 "nbformat": 4,
 "nbformat_minor": 5
}

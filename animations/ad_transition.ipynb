{
 "cells": [
  {
   "cell_type": "markdown",
   "id": "b6f854b0",
   "metadata": {},
   "source": [
    "## Adiabatic transition\n",
    "## |↑⟩ -> |Y>"
   ]
  },
  {
   "cell_type": "code",
   "execution_count": null,
   "id": "initial_id",
   "metadata": {
    "ExecuteTime": {
     "end_time": "2023-11-23T13:38:07.122943Z",
     "start_time": "2023-11-23T13:38:03.909952Z"
    },
    "collapsed": true
   },
   "outputs": [],
   "source": [
    "import numpy as np\n",
    "from qutip import *\n",
    "import matplotlib.cm as cm\n",
    "import matplotlib.pyplot as plt\n",
    "\n",
    "# Modules for visualization \n",
    "import os\n",
    "import subprocess\n",
    "from IPython import display"
   ]
  },
  {
   "cell_type": "code",
   "execution_count": null,
   "id": "fce5f7f617760e84",
   "metadata": {
    "ExecuteTime": {
     "end_time": "2023-11-23T13:45:06.261591Z",
     "start_time": "2023-11-23T13:45:06.256867Z"
    },
    "collapsed": false
   },
   "outputs": [],
   "source": [
    "\n",
    "def folder(name=\"at_tmp\"):\n",
    "    \"\"\"\n",
    "    Checks if a folder with the given name exists. If it does not, the folder is created.\n",
    "    Without the folder, images won't be plotted!!!\n",
    "    \"\"\"\n",
    "    if not os.path.exists(name):\n",
    "        os.makedirs(name)\n",
    "\n",
    "def create_video(path, name):\n",
    "    command = f'ffmpeg -framerate 90 -i {path}/frame_%d.png -c:v libx264 -pix_fmt yuv420p {name}.mp4'\n",
    "    subprocess.run(command, shell=True, check=True)\n",
    "\n",
    "def create_gif(path, name):\n",
    "    n = 1\n",
    "    while os.path.exists(os.path.join(path, f'output{n}.gif')):\n",
    "        n += 1\n",
    "    command = f'ffmpeg -framerate 30 -i {path}/frame_%d.png {name}.gif'\n",
    "    subprocess.run(command, shell=True, check=True)\n",
    "\n",
    "def display_gif(fn):\n",
    "\n",
    "    return display.HTML('<img src=\"{}\">'.format(fn))\n",
    "\n",
    "def display_video(video_path):\n",
    "    return display.Video(video_path)\n"
   ]
  },
  {
   "cell_type": "code",
   "execution_count": null,
   "id": "5b231bfe7cebe929",
   "metadata": {
    "ExecuteTime": {
     "end_time": "2023-11-23T13:43:56.045973Z",
     "start_time": "2023-11-23T13:43:56.040069Z"
    },
    "collapsed": false
   },
   "outputs": [],
   "source": [
    "#Adiabatic transition |↑⟩ -> |Y>\n",
    "\n",
    "psi = basis(2, 0)\n",
    "H = -1*sigmax()\n",
    "\n",
    "times = np.linspace(0, np.pi/4, 105)\n",
    "result = sesolve(H, psi, times)\n"
   ]
  },
  {
   "cell_type": "code",
   "execution_count": null,
   "id": "a4ae7396",
   "metadata": {},
   "outputs": [],
   "source": [
    "folder()"
   ]
  },
  {
   "cell_type": "code",
   "execution_count": null,
   "id": "fcc799ce51774a7f",
   "metadata": {
    "ExecuteTime": {
     "end_time": "2023-11-23T13:44:46.321122Z",
     "start_time": "2023-11-23T13:44:04.722455Z"
    },
    "collapsed": false
   },
   "outputs": [],
   "source": [
    "cmap = plt.get_cmap('seismic')\n",
    "num_of_points = len(times)\n",
    "colors = [cmap(i/num_of_points) for i in range(num_of_points)]\n",
    "\n",
    "b = Bloch()\n",
    "\n",
    "b.zlabel = ['|↑⟩', '|↓⟩']\n",
    "b.point_marker = ['o']  # Set all point markers to circles\n",
    "b.point_size = [20]\n",
    "b.vector_color = ['green']\n",
    "b.point_color = colors\n",
    "\n",
    "n = 0\n",
    "for i in range(len(result.states)):\n",
    "    b.add_states(result.states[i], kind='vector')\n",
    "    b.save(f'at_tmp/frame_{n}.png', format='png')\n",
    "    b.add_states(result.states[i], kind='point')\n",
    "    b.save(f'at_tmp/frame_{n+1}.png', format='png')\n",
    "    b.clear()\n",
    "    for j in range(i+1):\n",
    "        b.add_states(result.states[j], kind='point')\n",
    "    n+=2"
   ]
  },
  {
   "cell_type": "code",
   "execution_count": null,
   "id": "b1fb072648b5112c",
   "metadata": {
    "ExecuteTime": {
     "end_time": "2023-11-23T13:40:47.908923Z",
     "start_time": "2023-11-23T13:40:47.483894Z"
    },
    "collapsed": false
   },
   "outputs": [],
   "source": [
    "create_gif('at_tmp', 'adtransition')"
   ]
  }
 ],
 "metadata": {
  "kernelspec": {
   "display_name": "Python 3",
   "language": "python",
   "name": "python3"
  },
  "language_info": {
   "codemirror_mode": {
    "name": "ipython",
    "version": 3
   },
   "file_extension": ".py",
   "mimetype": "text/x-python",
   "name": "python",
   "nbconvert_exporter": "python",
   "pygments_lexer": "ipython3",
   "version": "3.11.6"
  }
 },
 "nbformat": 4,
 "nbformat_minor": 5
}

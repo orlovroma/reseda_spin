{
 "cells": [
  {
   "cell_type": "markdown",
   "id": "edecb9dd",
   "metadata": {},
   "source": [
    "# Code visualizes Larmor precession for neutron spin under magnetic field"
   ]
  },
  {
   "cell_type": "code",
   "execution_count": null,
   "id": "initial_id",
   "metadata": {
    "ExecuteTime": {
     "end_time": "2023-11-30T17:11:22.062743Z",
     "start_time": "2023-11-30T17:11:22.058389Z"
    },
    "collapsed": true
   },
   "outputs": [],
   "source": [
    "import numpy as np\n",
    "from qutip import *\n",
    "import pandas as pd\n",
    "import os\n",
    "import subprocess\n",
    "from IPython import display\n",
    "import matplotlib.cm as cm\n",
    "import matplotlib.pyplot as plt\n",
    "from scipy.constants import physical_constants"
   ]
  },
  {
   "cell_type": "code",
   "execution_count": null,
   "id": "bb4f0a2785408074",
   "metadata": {
    "ExecuteTime": {
     "end_time": "2023-11-30T17:11:22.613634Z",
     "start_time": "2023-11-30T17:11:22.610727Z"
    },
    "collapsed": false
   },
   "outputs": [],
   "source": [
    "\n",
    "def folder(name=\"lp_tmp\"):\n",
    "    \"\"\"\n",
    "    Checks if a folder with the given name exists. If it does not, the folder is created.\n",
    "    Without the folder, images won't be plotted!!!\n",
    "    \"\"\"\n",
    "    if not os.path.exists(name):\n",
    "        os.makedirs(name)\n",
    "\n",
    "def create_video(path, name):\n",
    "    command = f'ffmpeg -framerate 90 -i {path}/frame_%d.png -c:v libx264 -pix_fmt yuv420p {name}.mp4'\n",
    "    subprocess.run(command, shell=True, check=True)\n",
    "\n",
    "def create_gif(path, name):\n",
    "    n = 1\n",
    "    while os.path.exists(os.path.join(path, f'output{n}.gif')):\n",
    "        n += 1\n",
    "    command = f'ffmpeg -framerate 30 -i {path}/frame_%d.png {name}.gif'\n",
    "    subprocess.run(command, shell=True, check=True)\n",
    "\n",
    "def display_gif(fn):\n",
    "\n",
    "    return display.HTML('<img src=\"{}\">'.format(fn))\n",
    "\n",
    "def display_video(video_path):\n",
    "    return display.Video(video_path)\n"
   ]
  },
  {
   "cell_type": "code",
   "execution_count": null,
   "id": "671fccd600b6c167",
   "metadata": {
    "ExecuteTime": {
     "end_time": "2023-11-30T17:11:23.242264Z",
     "start_time": "2023-11-30T17:11:23.239614Z"
    },
    "collapsed": false
   },
   "outputs": [],
   "source": [
    "gyr_n = physical_constants[\"neutron gyromag. ratio\"][0] #γ= 1.825*10^8 s⁻¹T⁻¹ \n",
    "B_0 = 0.0002 #T"
   ]
  },
  {
   "cell_type": "code",
   "execution_count": null,
   "id": "abb8ee5d6e412d1f",
   "metadata": {
    "ExecuteTime": {
     "end_time": "2023-11-30T17:15:58.854189Z",
     "start_time": "2023-11-30T17:15:58.847661Z"
    },
    "collapsed": false
   },
   "outputs": [],
   "source": [
    "psi0 = (2.0*basis(2, 0) + basis(2, 1)).unit() # |Ψ(0)>\n",
    "\n",
    "H = gyr_n*B_0*sigmaz()\n",
    "times = np.linspace(0, (np.pi)/(gyr_n*B_0), 210)\n",
    "\n",
    "result = sesolve(H, psi0, times, [])"
   ]
  },
  {
   "cell_type": "code",
   "execution_count": null,
   "id": "5667b7f98f1da30e",
   "metadata": {
    "ExecuteTime": {
     "end_time": "2023-11-30T17:17:24.664833Z",
     "start_time": "2023-11-30T17:16:06.686950Z"
    },
    "collapsed": false
   },
   "outputs": [],
   "source": [
    "cmap = plt.get_cmap('seismic')\n",
    "num_of_points = len(times)\n",
    "colors = [cmap(i/num_of_points) for i in range(num_of_points)]\n",
    "\n",
    "b = Bloch()\n",
    "\n",
    "b.zlabel = ['|↑⟩', '|↓⟩']\n",
    "b.point_marker = ['o']  # Set all point markers to circles\n",
    "b.point_size = [20]\n",
    "b.vector_color = ['green']\n",
    "b.point_color = colors\n",
    "\n",
    "n = 0\n",
    "for i in range(len(result.states)):\n",
    "    b.add_states(result.states[i], kind='vector')\n",
    "    b.save(f'lp_tmp/frame_{n}.png', format='png')\n",
    "    b.add_states(result.states[i], kind='point')\n",
    "    b.save(f'lp_tmp/frame_{n+1}.png', format='png')\n",
    "    b.clear()\n",
    "    for j in range(i+1):\n",
    "        b.add_states(result.states[j], kind='point')\n",
    "    n+=2"
   ]
  },
  {
   "cell_type": "code",
   "execution_count": null,
   "id": "919b80b1ee815516",
   "metadata": {
    "ExecuteTime": {
     "end_time": "2023-11-30T17:20:32.845606Z",
     "start_time": "2023-11-30T17:20:32.216586Z"
    },
    "collapsed": false
   },
   "outputs": [],
   "source": [
    "create_gif('lp_tmp', 'lp_gif')"
   ]
  }
 ],
 "metadata": {
  "kernelspec": {
   "display_name": "Python 3 (ipykernel)",
   "language": "python",
   "name": "python3"
  },
  "language_info": {
   "codemirror_mode": {
    "name": "ipython",
    "version": 2
   },
   "file_extension": ".py",
   "mimetype": "text/x-python",
   "name": "python",
   "nbconvert_exporter": "python",
   "pygments_lexer": "ipython2",
   "version": "2.7.6"
  }
 },
 "nbformat": 4,
 "nbformat_minor": 5
}

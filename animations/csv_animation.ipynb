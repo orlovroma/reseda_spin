{
 "cells": [
  {
   "cell_type": "markdown",
   "metadata": {},
   "source": [
    "# CSV animation\n",
    "RFF I, RFF II, Mezei II"
   ]
  },
  {
   "cell_type": "code",
   "execution_count": null,
   "metadata": {},
   "outputs": [],
   "source": [
    "import numpy as np\n",
    "from qutip import *\n",
    "import pandas as pd\n",
    "import os\n",
    "import subprocess\n",
    "from IPython import display\n",
    "import matplotlib.cm as cm\n",
    "import matplotlib.pyplot as plt"
   ]
  },
  {
   "cell_type": "code",
   "execution_count": null,
   "metadata": {},
   "outputs": [],
   "source": [
    "\n",
    "def create_video(path, name, fps=30):\n",
    "    command = f'ffmpeg -framerate {fps} -i {path}/frame_%d.png -c:v libx264 -pix_fmt yuv420p {name}.mp4'\n",
    "    subprocess.run(command, shell=True, check=True)\n",
    "\n",
    "def create_gif(path, name):\n",
    "    command = f'ffmpeg -framerate 30 -i {path}/frame_%d.png {name}.gif'\n",
    "    subprocess.run(command, shell=True, check=True)\n",
    "\n",
    "def display_gif(fn):\n",
    "    return display.HTML('<img src=\"{}\">'.format(fn))\n",
    "\n",
    "def display_video(video_path):\n",
    "    return display.Video(video_path)"
   ]
  },
  {
   "cell_type": "code",
   "execution_count": null,
   "metadata": {},
   "outputs": [],
   "source": [
    "def csvtovector(file_name, skiprows=0):\n",
    "    # Load the csv file\n",
    "    df_tmp = pd.read_csv(file_name, skiprows=skiprows)\n",
    "    df_tmp.columns = df_tmp.columns.str.strip()\n",
    "\n",
    "    # select columns and copy\n",
    "    df = df_tmp[['Sx', 'Sy', 'Sz']].copy()\n",
    "\n",
    "    # Convert all the dataframe values to numeric, invalid parsing will be set as NaN\n",
    "    df = df.apply(pd.to_numeric, errors='coerce')\n",
    "\n",
    "    # Drop the rows where at least one element is missing\n",
    "    df = df.dropna()\n",
    "\n",
    "    # convert columns to a list of lists\n",
    "    vectors = df[['Sx', 'Sy', 'Sz']].values.tolist()\n",
    "    return vectors"
   ]
  },
  {
   "cell_type": "code",
   "execution_count": null,
   "metadata": {},
   "outputs": [],
   "source": [
    "def vectortoframes(vectors, save_path):\n",
    "    if not os.path.exists(save_path):          # Funtion 'folder' is here\n",
    "        os.makedirs(save_path)\n",
    "    cmap = plt.get_cmap('seismic')\n",
    "    num_of_points = len(vectors)\n",
    "    colors = [cmap(i/num_of_points) for i in range(num_of_points)]\n",
    "\n",
    "    b = Bloch()\n",
    "\n",
    "    b.zlabel = ['|↑⟩', '|↓⟩']\n",
    "    b.point_marker = ['o']  # Set all point markers to circles\n",
    "    b.point_size = [20]\n",
    "    b.vector_color = ['green']\n",
    "    b.point_color = colors\n",
    "\n",
    "    n = 0\n",
    "    for i in range(len(vectors)):\n",
    "        b.add_vectors(vectors[i])\n",
    "        b.save(f'{save_path}/frame_{n}.png', format='png')\n",
    "        b.add_points(vectors[i])\n",
    "        b.save(f'{save_path}/frame_{n+1}.png', format='png')\n",
    "        b.clear()\n",
    "        for j in range(i+1):\n",
    "            b.add_points(vectors[j])\n",
    "        n += 2"
   ]
  },
  {
   "cell_type": "code",
   "execution_count": null,
   "metadata": {},
   "outputs": [],
   "source": [
    "vectors = csvtovector('csv_data/RF-Flipper_2.csv')\n",
    "vectortoframes(vectors, 'rff2_tmp')"
   ]
  },
  {
   "cell_type": "code",
   "execution_count": null,
   "metadata": {},
   "outputs": [],
   "source": [
    "vectors1 = csvtovector('csv_data/MEZEI-Flipper_2.csv')\n",
    "vectortoframes(vectors1, 'mf2_tmp')"
   ]
  },
  {
   "cell_type": "code",
   "execution_count": null,
   "metadata": {},
   "outputs": [],
   "source": [
    "vectors2 = csvtovector('csv_data/RF-Flipper_1.csv')\n",
    "vectortoframes(vectors2, 'rff1_tmp')"
   ]
  },
  {
   "cell_type": "code",
   "execution_count": null,
   "metadata": {},
   "outputs": [],
   "source": [
    "create_video('rff1_tmp', 'rff1', 120)"
   ]
  },
  {
   "cell_type": "code",
   "execution_count": null,
   "metadata": {},
   "outputs": [],
   "source": [
    "create_video('rff2_tmp', 'rff2', 120)"
   ]
  },
  {
   "cell_type": "code",
   "execution_count": null,
   "metadata": {},
   "outputs": [],
   "source": [
    "create_video('mf2_tmp', 'mf2', 60)"
   ]
  }
 ],
 "metadata": {
  "kernelspec": {
   "display_name": "reseda",
   "language": "python",
   "name": "python3"
  },
  "language_info": {
   "codemirror_mode": {
    "name": "ipython",
    "version": 3
   },
   "file_extension": ".py",
   "mimetype": "text/x-python",
   "name": "python",
   "nbconvert_exporter": "python",
   "pygments_lexer": "ipython3",
   "version": "3.11.6"
  }
 },
 "nbformat": 4,
 "nbformat_minor": 2
}

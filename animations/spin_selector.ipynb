{
 "cells": [
  {
   "cell_type": "markdown",
   "id": "ec719c49",
   "metadata": {},
   "source": [
    "# Spin selection. Neutrons that do not have the desired spin do not pass through this filter."
   ]
  },
  {
   "cell_type": "code",
   "execution_count": null,
   "id": "initial_id",
   "metadata": {
    "collapsed": true
   },
   "outputs": [],
   "source": [
    "import numpy as np\n",
    "from qutip import *\n",
    "import matplotlib.cm as cm\n",
    "import matplotlib.pyplot as plt\n",
    "import subprocess\n",
    "import os"
   ]
  },
  {
   "cell_type": "code",
   "execution_count": null,
   "id": "1f8ea5adf4b6bc0b",
   "metadata": {
    "collapsed": false
   },
   "outputs": [],
   "source": [
    "def folder(name=\"ss_tmp\"):\n",
    "    \"\"\"\n",
    "    Checks if a folder with the given name exists. If it does not, the folder is created.\n",
    "    Parameters:\n",
    "    name (str): The name of the folder to check and potentially create.\n",
    "    \"\"\"\n",
    "    if not os.path.exists(name):\n",
    "        os.makedirs(name)\n",
    "    \n",
    "def create_video(path, name, fps=30):\n",
    "    command = f'ffmpeg -framerate {fps} -i {path}/frame_%d.png -c:v libx264 -pix_fmt yuv420p {name}.mp4'\n",
    "    subprocess.run(command, shell=True, check=True)\n",
    "\n",
    "def create_gif(path, name):\n",
    "    command = f'ffmpeg -framerate 30 -i {path}/frame_%d.png {name}.gif'\n",
    "    subprocess.run(command, shell=True, check=True)\n",
    "\n",
    "def display_gif(fn):\n",
    "    return display.HTML('<img src=\"{}\">'.format(fn))\n",
    "\n",
    "def display_video(video_path):\n",
    "    return display.Video(video_path)"
   ]
  },
  {
   "cell_type": "code",
   "execution_count": null,
   "id": "c8c7dadcadad8a28",
   "metadata": {
    "collapsed": false
   },
   "outputs": [],
   "source": [
    "n_vectors = 10                                           # Define the number of vectors\n",
    "psi_list = [rand_ket_haar(2) for i in range(n_vectors)]  # List of random polorized spins\n",
    "psi_up = basis(2, 0)                                     # Up state\n",
    "\n",
    "H = 10*sigmaz()\n",
    "gamma = 0.333\n",
    "c_ops = [3*gamma*sigmaz() + 2*gamma*sigmax() + 2*gamma*sigmay()]\n",
    "times = np.linspace(0, 1, 200)\n",
    "\n",
    "result = [mesolve(H, psi_list[i], times, c_ops, ) for i in range(n_vectors)]"
   ]
  },
  {
   "cell_type": "code",
   "execution_count": null,
   "id": "7d3ea0d95df724fd",
   "metadata": {
    "collapsed": false
   },
   "outputs": [],
   "source": [
    "folder()"
   ]
  },
  {
   "cell_type": "code",
   "execution_count": null,
   "id": "d66df88deb507f3f",
   "metadata": {
    "ExecuteTime": {
     "end_time": "2024-03-28T15:30:40.517365Z",
     "start_time": "2024-03-28T15:30:20.938180Z"
    },
    "collapsed": false
   },
   "outputs": [],
   "source": [
    "\n",
    "b = Bloch()\n",
    "# b.vector_color = ['green']  # Set the color of vector. UPD: Doesn't work properly with the new version\n",
    "\n",
    "b.zlabel = ['|↑⟩', '|↓⟩']\n",
    "b.point_marker = ['o']  # Set all point markers to circles\n",
    "b.point_size = [30]  # Set size of the points\n",
    "\n",
    "# Animate the vectors\n",
    "for i in range(len(times)):\n",
    "    b.clear()  # Clear the Bloch sphere for each frame\n",
    "    \n",
    "    # Add decaying vectors\n",
    "    for res in result:\n",
    "        current_vector = res.states[i]\n",
    "        b.add_states(current_vector, 'vector')\n",
    "        \n",
    "    \n",
    "    # Add the nondisappearing vector\n",
    "    b.add_states(psi_up,'vector')\n",
    "    \n",
    "    b.save(f'ss_tmp/frame_{i}.png', format='png')"
   ]
  },
  {
   "cell_type": "code",
   "execution_count": null,
   "id": "4124e3fb",
   "metadata": {},
   "outputs": [],
   "source": [
    "create_gif('ss_tmp', 'ss_gif')"
   ]
  }
 ],
 "metadata": {
  "kernelspec": {
   "display_name": "reseda",
   "language": "python",
   "name": "python3"
  },
  "language_info": {
   "codemirror_mode": {
    "name": "ipython",
    "version": 3
   },
   "file_extension": ".py",
   "mimetype": "text/x-python",
   "name": "python",
   "nbconvert_exporter": "python",
   "pygments_lexer": "ipython3",
   "version": "3.11.6"
  }
 },
 "nbformat": 4,
 "nbformat_minor": 5
}

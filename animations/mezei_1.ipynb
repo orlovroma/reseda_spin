{
 "cells": [
  {
   "cell_type": "markdown",
   "metadata": {},
   "source": [
    "# Mezei flipper I"
   ]
  },
  {
   "cell_type": "code",
   "execution_count": null,
   "metadata": {},
   "outputs": [],
   "source": [
    "import numpy as np\n",
    "import matplotlib.cm as cm\n",
    "import matplotlib.pyplot as plt\n",
    "from qutip import *\n",
    "from scipy.constants import physical_constants\n",
    "\n",
    "# Modules for visualization \n",
    "import os\n",
    "import subprocess\n",
    "from IPython import display"
   ]
  },
  {
   "cell_type": "code",
   "execution_count": null,
   "metadata": {},
   "outputs": [],
   "source": [
    "# Define and import some constants\n",
    "h_bar = physical_constants[\"Planck constant over 2 pi in eV s\"][0] #h_bar = ℏ = 6.582119514e-16 (Ev*S) \n",
    "gyr_n = physical_constants[\"neutron gyromag. ratio\"][0] #γ= 1.825*10^8 s⁻¹T⁻¹ \n",
    "l = 0.01 #flight path length [m]\n",
    "v = 1000 #neutron velocity [m/s]"
   ]
  },
  {
   "cell_type": "code",
   "execution_count": null,
   "metadata": {},
   "outputs": [],
   "source": [
    "def folder(name=\"mezei_tmp\"):\n",
    "    \"\"\"\n",
    "    Checks if a folder with the given name exists. If it does not, the folder is created.\n",
    "    Parameters:\n",
    "    name (str): The name of the folder to check and potentially create.\n",
    "    \"\"\"\n",
    "    if not os.path.exists(name):\n",
    "        os.makedirs(name)\n",
    "\n",
    "def create_video(path, name, fps=30):\n",
    "    command = f'ffmpeg -framerate {fps} -i {path}/frame_%d.png -c:v libx264 -pix_fmt yuv420p {name}.mp4'\n",
    "    subprocess.run(command, shell=True, check=True)\n",
    "\n",
    "def create_gif(path, name):\n",
    "    command = f'ffmpeg -framerate 30 -i {path}/frame_%d.png {name}.gif'\n",
    "    subprocess.run(command, shell=True, check=True)\n",
    "\n",
    "def display_gif(fn):\n",
    "    return display.HTML('<img src=\"{}\">'.format(fn))\n",
    "\n",
    "def display_video(video_path):\n",
    "    return display.Video(video_path)"
   ]
  },
  {
   "cell_type": "code",
   "execution_count": null,
   "metadata": {},
   "outputs": [],
   "source": [
    "#H = ((np.pi*v)/l)*(sigmay()) + ((np.pi*v)/l)*(sigmaz())\n",
    "\n",
    "coef_h = (np.pi*v)/l\n",
    "H = coef_h*(sigmay() + sigmaz())\n",
    "psi0 = (basis(2, 0) + 1j * basis(2, 1)).unit() # Initial state |+i> or just y-axis\n",
    "times = np.linspace(0.0, (np.pi*l)/(v*9), 105)\n",
    "result = sesolve(H, psi0, times, [])"
   ]
  },
  {
   "cell_type": "code",
   "execution_count": null,
   "metadata": {},
   "outputs": [],
   "source": [
    "folder()"
   ]
  },
  {
   "cell_type": "code",
   "execution_count": null,
   "metadata": {},
   "outputs": [],
   "source": [
    "cmap = plt.get_cmap('seismic')\n",
    "num_of_points = len(times)\n",
    "colors = [cmap(i/num_of_points) for i in range(num_of_points)]\n",
    "\n",
    "b = Bloch()\n",
    "\n",
    "b.zlabel = ['|↑⟩', '|↓⟩']\n",
    "b.point_marker = ['o']  # Set all point markers to circles\n",
    "b.point_size = [20]\n",
    "b.vector_color = ['green']\n",
    "b.point_color = colors\n",
    "\n",
    "n = 0\n",
    "for i in range(len(result.states)):\n",
    "    b.add_states(result.states[i], kind='vector')\n",
    "    b.save(f'mezei_tmp/frame_{n}.png', format='png')\n",
    "    b.add_states(result.states[i], kind='point')\n",
    "    b.save(f'mezei_tmp/frame_{n+1}.png', format='png')\n",
    "    b.clear()\n",
    "    for j in range(i+1):\n",
    "        b.add_states(result.states[j], kind='point')\n",
    "    n+=2"
   ]
  },
  {
   "cell_type": "code",
   "execution_count": null,
   "metadata": {},
   "outputs": [],
   "source": [
    "create_gif('mezei_tmp', 'mezei')"
   ]
  }
 ],
 "metadata": {
  "kernelspec": {
   "display_name": "reseda",
   "language": "python",
   "name": "python3"
  },
  "language_info": {
   "codemirror_mode": {
    "name": "ipython",
    "version": 3
   },
   "file_extension": ".py",
   "mimetype": "text/x-python",
   "name": "python",
   "nbconvert_exporter": "python",
   "pygments_lexer": "ipython3",
   "version": "3.11.6"
  }
 },
 "nbformat": 4,
 "nbformat_minor": 2
}

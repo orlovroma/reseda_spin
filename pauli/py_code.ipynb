{
 "cells": [
  {
   "cell_type": "markdown",
   "id": "3dddee59633aa09f",
   "metadata": {
    "collapsed": false
   },
   "source": [
    "# This code visualizes the rotation of neutron spin under the action of the Pauli Y operator"
   ]
  },
  {
   "cell_type": "code",
   "execution_count": null,
   "id": "initial_id",
   "metadata": {
    "ExecuteTime": {
     "end_time": "2023-11-04T21:44:39.779006Z",
     "start_time": "2023-11-04T21:44:38.389347Z"
    },
    "collapsed": true
   },
   "outputs": [],
   "source": [
    "import numpy as np\n",
    "from qutip import *\n",
    "import matplotlib.cm as cm\n",
    "import matplotlib.pyplot as plt\n",
    "\n",
    "# Modules for visualization \n",
    "import os\n",
    "import subprocess\n",
    "from IPython import display"
   ]
  },
  {
   "cell_type": "code",
   "execution_count": null,
   "id": "15f261cb54b33063",
   "metadata": {
    "ExecuteTime": {
     "end_time": "2023-11-04T21:44:40.792850Z",
     "start_time": "2023-11-04T21:44:40.782001Z"
    },
    "collapsed": false
   },
   "outputs": [],
   "source": [
    "\n",
    "def folder(name=\"py_tmp\"):\n",
    "    \"\"\"\n",
    "    Checks if a folder with the given name exists. If it does not, the folder is created.\n",
    "    Without the folder, images won't be plotted!!!\n",
    "    \"\"\"\n",
    "    if not os.path.exists(name):\n",
    "        os.makedirs(name)\n",
    "\n",
    "\n",
    "def create_video(path, name):\n",
    "    command = f'ffmpeg -framerate 90 -i {path}/frame_%d.png -c:v libx264 -pix_fmt yuv420p {name}.mp4'\n",
    "    subprocess.run(command, shell=True, check=True)\n",
    "\n",
    "\n",
    "def create_gif(path, name):\n",
    "    n = 1\n",
    "    while os.path.exists(os.path.join(path, f'output{n}.gif')):\n",
    "        n += 1\n",
    "    command = f'ffmpeg -framerate 30 -i {path}/frame_%d.png {name}.gif'\n",
    "    subprocess.run(command, shell=True, check=True)\n",
    "\n",
    "\n",
    "def display_gif(fn):\n",
    "\n",
    "    return display.HTML('<img src=\"{}\">'.format(fn))\n",
    "\n",
    "def display_video(video_path):\n",
    "    return display.Video(video_path)\n"
   ]
  },
  {
   "cell_type": "code",
   "execution_count": null,
   "id": "a61eb761b929155c",
   "metadata": {
    "ExecuteTime": {
     "end_time": "2023-11-04T21:44:45.554645Z",
     "start_time": "2023-11-04T21:44:45.544910Z"
    },
    "collapsed": false
   },
   "outputs": [],
   "source": [
    "H = sigmay() # Hamiltonian\n",
    "psi0 = (basis(2, 0)).unit() # Initial state\n",
    "times = np.linspace(0.0, np.pi/2, 250)\n",
    "result = sesolve(H, psi0, times, [])\n",
    "# result.states"
   ]
  },
  {
   "cell_type": "code",
   "execution_count": null,
   "id": "73a2903b",
   "metadata": {},
   "outputs": [],
   "source": [
    "folder() #Creates the folder"
   ]
  },
  {
   "cell_type": "markdown",
   "id": "8c4bf207",
   "metadata": {},
   "source": [
    "Now we plot our points on the Bloch sphere. Readme file for more information"
   ]
  },
  {
   "cell_type": "code",
   "execution_count": null,
   "id": "1f5275cc05f8407d",
   "metadata": {
    "ExecuteTime": {
     "end_time": "2023-11-04T21:47:15.087792Z",
     "start_time": "2023-11-04T21:45:04.230731Z"
    },
    "collapsed": false
   },
   "outputs": [],
   "source": [
    "cmap = plt.get_cmap('seismic')\n",
    "num_of_points = len(times)\n",
    "colors = [cmap(i/num_of_points) for i in range(num_of_points)]\n",
    "\n",
    "b = Bloch()\n",
    "\n",
    "b.zlabel = ['|↑⟩', '|↓⟩']\n",
    "b.point_marker = ['o']  # Set all point markers to circles\n",
    "b.point_size = [20]\n",
    "b.vector_color = ['green']\n",
    "b.point_color = colors\n",
    "\n",
    "n = 0\n",
    "for i in range(len(result.states)):\n",
    "    b.add_states(result.states[i], kind='vector')\n",
    "    b.save(f'py_tmp/frame_{n}.png', format='png')\n",
    "    b.add_states(result.states[i], kind='point')\n",
    "    b.save(f'py_tmp/frame_{n+1}.png', format='png')\n",
    "    b.clear()\n",
    "    for j in range(i+1):\n",
    "        b.add_states(result.states[j], kind='point')\n",
    "    n+=2"
   ]
  },
  {
   "cell_type": "code",
   "execution_count": null,
   "id": "d822a1f724638e8f",
   "metadata": {
    "ExecuteTime": {
     "end_time": "2023-11-04T21:47:22.591510Z",
     "start_time": "2023-11-04T21:47:20.730522Z"
    },
    "collapsed": false
   },
   "outputs": [],
   "source": [
    "create_gif('py_tmp', 'py_gif')"
   ]
  }
 ],
 "metadata": {
  "kernelspec": {
   "display_name": "Python 3",
   "language": "python",
   "name": "python3"
  },
  "language_info": {
   "codemirror_mode": {
    "name": "ipython",
    "version": 3
   },
   "file_extension": ".py",
   "mimetype": "text/x-python",
   "name": "python",
   "nbconvert_exporter": "python",
   "pygments_lexer": "ipython3",
   "version": "3.11.6"
  }
 },
 "nbformat": 4,
 "nbformat_minor": 5
}

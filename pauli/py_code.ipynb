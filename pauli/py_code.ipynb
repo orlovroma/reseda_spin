{
 "cells": [
  {
   "cell_type": "markdown",
   "id": "3dddee59633aa09f",
   "metadata": {
    "collapsed": false
   },
   "source": [
    "# This code visualizes the rotation of neutron spin under the action of the Pauli Y operator"
   ]
  },
  {
   "cell_type": "code",
   "execution_count": 1,
   "id": "initial_id",
   "metadata": {
    "ExecuteTime": {
     "end_time": "2023-11-04T21:44:39.779006Z",
     "start_time": "2023-11-04T21:44:38.389347Z"
    },
    "collapsed": true
   },
   "outputs": [],
   "source": [
    "import numpy as np\n",
    "from qutip import *\n",
    "import matplotlib.cm as cm\n",
    "import matplotlib.pyplot as plt\n",
    "\n",
    "# Modules for visualization \n",
    "import os\n",
    "import subprocess\n",
    "from IPython import display"
   ]
  },
  {
   "cell_type": "code",
   "execution_count": 7,
   "id": "15f261cb54b33063",
   "metadata": {
    "ExecuteTime": {
     "end_time": "2023-11-04T21:44:40.792850Z",
     "start_time": "2023-11-04T21:44:40.782001Z"
    },
    "collapsed": false
   },
   "outputs": [],
   "source": [
    "\n",
    "def folder(name=\"py_tmp\"):\n",
    "    \"\"\"\n",
    "    Checks if a folder with the given name exists. If it does not, the folder is created.\n",
    "    Without the folder, images won't be plotted!!!\n",
    "    \"\"\"\n",
    "    if not os.path.exists(name):\n",
    "        os.makedirs(name)\n",
    "\n",
    "\n",
    "def create_video(path, name):\n",
    "    command = f'ffmpeg -framerate 90 -i {path}/frame_%d.png -c:v libx264 -pix_fmt yuv420p {name}.mp4'\n",
    "    subprocess.run(command, shell=True, check=True)\n",
    "\n",
    "\n",
    "def create_gif(path, name):\n",
    "    n = 1\n",
    "    while os.path.exists(os.path.join(path, f'output{n}.gif')):\n",
    "        n += 1\n",
    "    command = f'ffmpeg -framerate 30 -i {path}/frame_%d.png {name}.gif'\n",
    "    subprocess.run(command, shell=True, check=True)\n",
    "\n",
    "\n",
    "def display_gif(fn):\n",
    "\n",
    "    return display.HTML('<img src=\"{}\">'.format(fn))\n",
    "\n",
    "def display_video(video_path):\n",
    "    return display.Video(video_path)\n"
   ]
  },
  {
   "cell_type": "code",
   "execution_count": 3,
   "id": "a61eb761b929155c",
   "metadata": {
    "ExecuteTime": {
     "end_time": "2023-11-04T21:44:45.554645Z",
     "start_time": "2023-11-04T21:44:45.544910Z"
    },
    "collapsed": false
   },
   "outputs": [],
   "source": [
    "H = sigmay() # Hamiltonian\n",
    "psi0 = (basis(2, 0)).unit() # Initial state\n",
    "times = np.linspace(0.0, np.pi/2, 250)\n",
    "result = sesolve(H, psi0, times, [])\n",
    "# result.states"
   ]
  },
  {
   "cell_type": "code",
   "execution_count": 4,
   "id": "73a2903b",
   "metadata": {},
   "outputs": [],
   "source": [
    "folder() #Creates the folder"
   ]
  },
  {
   "cell_type": "markdown",
   "id": "8c4bf207",
   "metadata": {},
   "source": [
    "Now we plot our points on the Bloch sphere. Readme file for more information"
   ]
  },
  {
   "cell_type": "code",
   "execution_count": 5,
   "id": "1f5275cc05f8407d",
   "metadata": {
    "ExecuteTime": {
     "end_time": "2023-11-04T21:47:15.087792Z",
     "start_time": "2023-11-04T21:45:04.230731Z"
    },
    "collapsed": false
   },
   "outputs": [],
   "source": [
    "cmap = plt.get_cmap('seismic')\n",
    "num_of_points = len(times)\n",
    "colors = [cmap(i/num_of_points) for i in range(num_of_points)]\n",
    "\n",
    "b = Bloch()\n",
    "\n",
    "b.zlabel = ['|↑⟩', '|↓⟩']\n",
    "b.point_marker = ['o']  # Set all point markers to circles\n",
    "b.point_size = [20]\n",
    "b.vector_color = ['green']\n",
    "b.point_color = colors\n",
    "\n",
    "n = 0\n",
    "for i in range(len(result.states)):\n",
    "    b.add_states(result.states[i], kind='vector')\n",
    "    b.save(f'py_tmp/frame_{n}.png', format='png')\n",
    "    b.add_states(result.states[i], kind='point')\n",
    "    b.save(f'py_tmp/frame_{n+1}.png', format='png')\n",
    "    b.clear()\n",
    "    for j in range(i+1):\n",
    "        b.add_states(result.states[j], kind='point')\n",
    "    n+=2"
   ]
  },
  {
   "cell_type": "code",
   "execution_count": 8,
   "id": "d822a1f724638e8f",
   "metadata": {
    "ExecuteTime": {
     "end_time": "2023-11-04T21:47:22.591510Z",
     "start_time": "2023-11-04T21:47:20.730522Z"
    },
    "collapsed": false
   },
   "outputs": [
    {
     "name": "stderr",
     "output_type": "stream",
     "text": [
      "ffmpeg version 6.1 Copyright (c) 2000-2023 the FFmpeg developers\n",
      "  built with clang version 16.0.6\n",
      "  configuration: --prefix=/Users/runner/miniforge3/conda-bld/ffmpeg_1699729534217/_h_env_placehold_placehold_placehold_placehold_placehold_placehold_placehold_placehold_placehold_placehold_placehold_placehold_placehold_placehold_placehold_placehold_placehold_placehold_placehold_pl --cc=arm64-apple-darwin20.0.0-clang --cxx=arm64-apple-darwin20.0.0-clang++ --nm=arm64-apple-darwin20.0.0-nm --ar=arm64-apple-darwin20.0.0-ar --disable-doc --disable-openssl --enable-demuxer=dash --enable-hardcoded-tables --enable-libfreetype --enable-libfontconfig --enable-libopenh264 --enable-libdav1d --enable-cross-compile --arch=arm64 --target-os=darwin --cross-prefix=arm64-apple-darwin20.0.0- --host-cc=/Users/runner/miniforge3/conda-bld/ffmpeg_1699729534217/_build_env/bin/x86_64-apple-darwin13.4.0-clang --enable-neon --enable-gnutls --enable-libmp3lame --enable-libvpx --enable-libass --enable-pthreads --enable-gpl --enable-libx264 --enable-libx265 --enable-libaom --enable-libsvtav1 --enable-libxml2 --enable-pic --enable-shared --disable-static --enable-version3 --enable-zlib --enable-libopus --pkg-config=/Users/runner/miniforge3/conda-bld/ffmpeg_1699729534217/_build_env/bin/pkg-config\n",
      "  libavutil      58. 29.100 / 58. 29.100\n",
      "  libavcodec     60. 31.102 / 60. 31.102\n",
      "  libavformat    60. 16.100 / 60. 16.100\n",
      "  libavdevice    60.  3.100 / 60.  3.100\n",
      "  libavfilter     9. 12.100 /  9. 12.100\n",
      "  libswscale      7.  5.100 /  7.  5.100\n",
      "  libswresample   4. 12.100 /  4. 12.100\n",
      "  libpostproc    57.  3.100 / 57.  3.100\n",
      "Input #0, image2, from 'py_tmp/frame_%d.png':\n",
      "  Duration: 00:00:16.67, start: 0.000000, bitrate: N/A\n",
      "  Stream #0:0: Video: png, rgba(pc, gbr/unknown/unknown), 500x500 [SAR 3937:3937 DAR 1:1], 30 fps, 30 tbr, 30 tbn\n",
      "Stream mapping:\n",
      "  Stream #0:0 -> #0:0 (png (native) -> gif (native))\n",
      "Press [q] to stop, [?] for help\n",
      "Output #0, gif, to 'py_gif.gif':\n",
      "  Metadata:\n",
      "    encoder         : Lavf60.16.100\n",
      "  Stream #0:0: Video: gif, bgr8(pc, gbr/unknown/unknown, progressive), 500x500 [SAR 1:1 DAR 1:1], q=2-31, 200 kb/s, 30 fps, 100 tbn\n",
      "    Metadata:\n",
      "      encoder         : Lavc60.31.102 gif\n",
      "[out#0/gif @ 0x13b604fe0] video:25994kB audio:0kB subtitle:0kB other streams:0kB global headers:0kB muxing overhead: 0.000075%\n",
      "frame=  500 fps=129 q=-0.0 Lsize=   25994kB time=00:00:16.63 bitrate=12802.3kbits/s speed=4.28x    \n"
     ]
    }
   ],
   "source": [
    "create_gif('py_tmp', 'py_gif')"
   ]
  }
 ],
 "metadata": {
  "kernelspec": {
   "display_name": "Python 3",
   "language": "python",
   "name": "python3"
  },
  "language_info": {
   "codemirror_mode": {
    "name": "ipython",
    "version": 3
   },
   "file_extension": ".py",
   "mimetype": "text/x-python",
   "name": "python",
   "nbconvert_exporter": "python",
   "pygments_lexer": "ipython3",
   "version": "3.11.6"
  }
 },
 "nbformat": 4,
 "nbformat_minor": 5
}
